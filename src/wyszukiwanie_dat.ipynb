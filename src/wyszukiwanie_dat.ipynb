{
 "cells": [
  {
   "cell_type": "code",
   "execution_count": 22,
   "id": "eb6853a8",
   "metadata": {},
   "outputs": [],
   "source": [
    "import re\n",
    "import spacy\n",
    "from spacy import displacy"
   ]
  },
  {
   "cell_type": "code",
   "execution_count": 14,
   "id": "e346f568",
   "metadata": {},
   "outputs": [],
   "source": [
    "text = \"\"\"Zdawało się, że zatarg polsko-szwedzki wejdzie na tory pokojowego rozwiązania  w wyniku \n",
    "małżeństwa między bratem Eryka XIV księciem finlandzkim  Janem a siostrą Zygmunta Augusta królewną \n",
    "Katarzyną, zawartego  w Wilnie 4 października 1562 roku. Król szwedzki widział jednak w bracie tylko \n",
    "niebezpiecznego rywala, teraz jeszcze wzmocnionego otrzymaniem  od szwagra 7 zamków w Inflantach \n",
    "w zastaw za pożyczkę. Wystąpił  przeto przeciw niemu, zmusił do poddania się i uwięził wraz z żoną \n",
    "na zamku Gripsholmie. Jednocześnie próbował zawładnąć Rygą w lipcu 1563, używszy jako narzędzia \n",
    "ks. Krzysztofa meklemburskiego, koadiutora zmarłego arcybiskupa Wilhelma.\"\"\""
   ]
  },
  {
   "cell_type": "code",
   "execution_count": 3,
   "id": "7f4924ce",
   "metadata": {},
   "outputs": [],
   "source": [
    "colors = {\"persName\": \"#feb236\", \"date\":\"#bdcebe\", \"placeName\":\"#dac292\"}\n",
    "options = {\"ents\": [\"persName\", \"date\", \"placeName\"], \"colors\": colors}"
   ]
  },
  {
   "cell_type": "code",
   "execution_count": 15,
   "id": "0aec76d5",
   "metadata": {},
   "outputs": [],
   "source": [
    "nlp = spacy.load('pl_core_news_lg')"
   ]
  },
  {
   "cell_type": "code",
   "execution_count": 16,
   "id": "a5633ed4",
   "metadata": {},
   "outputs": [],
   "source": [
    "doc = nlp(text)"
   ]
  },
  {
   "cell_type": "code",
   "execution_count": 17,
   "id": "b97857bb",
   "metadata": {},
   "outputs": [
    {
     "data": {
      "text/html": [
       "<span class=\"tex2jax_ignore\"><div class=\"entities\" style=\"line-height: 2.5; direction: ltr\">Zdawało się, że zatarg \n",
       "<mark class=\"entity\" style=\"background: #dac292; padding: 0.45em 0.6em; margin: 0 0.25em; line-height: 1; border-radius: 0.35em;\">\n",
       "    polsko\n",
       "    <span style=\"font-size: 0.8em; font-weight: bold; line-height: 1; border-radius: 0.35em; vertical-align: middle; margin-left: 0.5rem\">placeName</span>\n",
       "</mark>\n",
       "-\n",
       "<mark class=\"entity\" style=\"background: #dac292; padding: 0.45em 0.6em; margin: 0 0.25em; line-height: 1; border-radius: 0.35em;\">\n",
       "    szwedzki\n",
       "    <span style=\"font-size: 0.8em; font-weight: bold; line-height: 1; border-radius: 0.35em; vertical-align: middle; margin-left: 0.5rem\">placeName</span>\n",
       "</mark>\n",
       " wejdzie na tory pokojowego rozwiązania  w wyniku </br>małżeństwa między bratem \n",
       "<mark class=\"entity\" style=\"background: #feb236; padding: 0.45em 0.6em; margin: 0 0.25em; line-height: 1; border-radius: 0.35em;\">\n",
       "    Eryka XIV\n",
       "    <span style=\"font-size: 0.8em; font-weight: bold; line-height: 1; border-radius: 0.35em; vertical-align: middle; margin-left: 0.5rem\">persName</span>\n",
       "</mark>\n",
       " księciem finlandzkim  \n",
       "<mark class=\"entity\" style=\"background: #feb236; padding: 0.45em 0.6em; margin: 0 0.25em; line-height: 1; border-radius: 0.35em;\">\n",
       "    Janem\n",
       "    <span style=\"font-size: 0.8em; font-weight: bold; line-height: 1; border-radius: 0.35em; vertical-align: middle; margin-left: 0.5rem\">persName</span>\n",
       "</mark>\n",
       " a siostrą \n",
       "<mark class=\"entity\" style=\"background: #feb236; padding: 0.45em 0.6em; margin: 0 0.25em; line-height: 1; border-radius: 0.35em;\">\n",
       "    Zygmunta Augusta\n",
       "    <span style=\"font-size: 0.8em; font-weight: bold; line-height: 1; border-radius: 0.35em; vertical-align: middle; margin-left: 0.5rem\">persName</span>\n",
       "</mark>\n",
       " królewną </br>\n",
       "<mark class=\"entity\" style=\"background: #feb236; padding: 0.45em 0.6em; margin: 0 0.25em; line-height: 1; border-radius: 0.35em;\">\n",
       "    Katarzyną\n",
       "    <span style=\"font-size: 0.8em; font-weight: bold; line-height: 1; border-radius: 0.35em; vertical-align: middle; margin-left: 0.5rem\">persName</span>\n",
       "</mark>\n",
       ", zawartego  w \n",
       "<mark class=\"entity\" style=\"background: #dac292; padding: 0.45em 0.6em; margin: 0 0.25em; line-height: 1; border-radius: 0.35em;\">\n",
       "    Wilnie\n",
       "    <span style=\"font-size: 0.8em; font-weight: bold; line-height: 1; border-radius: 0.35em; vertical-align: middle; margin-left: 0.5rem\">placeName</span>\n",
       "</mark>\n",
       " \n",
       "<mark class=\"entity\" style=\"background: #bdcebe; padding: 0.45em 0.6em; margin: 0 0.25em; line-height: 1; border-radius: 0.35em;\">\n",
       "    4 października 1562 roku\n",
       "    <span style=\"font-size: 0.8em; font-weight: bold; line-height: 1; border-radius: 0.35em; vertical-align: middle; margin-left: 0.5rem\">date</span>\n",
       "</mark>\n",
       ". Król \n",
       "<mark class=\"entity\" style=\"background: #dac292; padding: 0.45em 0.6em; margin: 0 0.25em; line-height: 1; border-radius: 0.35em;\">\n",
       "    szwedzki\n",
       "    <span style=\"font-size: 0.8em; font-weight: bold; line-height: 1; border-radius: 0.35em; vertical-align: middle; margin-left: 0.5rem\">placeName</span>\n",
       "</mark>\n",
       " widział jednak w bracie tylko </br>niebezpiecznego rywala, teraz jeszcze wzmocnionego otrzymaniem  od szwagra 7 zamków w \n",
       "<mark class=\"entity\" style=\"background: #dac292; padding: 0.45em 0.6em; margin: 0 0.25em; line-height: 1; border-radius: 0.35em;\">\n",
       "    Inflantach\n",
       "    <span style=\"font-size: 0.8em; font-weight: bold; line-height: 1; border-radius: 0.35em; vertical-align: middle; margin-left: 0.5rem\">placeName</span>\n",
       "</mark>\n",
       " </br>w zastaw za pożyczkę. Wystąpił  przeto przeciw niemu, zmusił do poddania się i uwięził wraz z żoną </br>na zamku Gripsholmie. Jednocześnie próbował zawładnąć \n",
       "<mark class=\"entity\" style=\"background: #dac292; padding: 0.45em 0.6em; margin: 0 0.25em; line-height: 1; border-radius: 0.35em;\">\n",
       "    Rygą\n",
       "    <span style=\"font-size: 0.8em; font-weight: bold; line-height: 1; border-radius: 0.35em; vertical-align: middle; margin-left: 0.5rem\">placeName</span>\n",
       "</mark>\n",
       " w \n",
       "<mark class=\"entity\" style=\"background: #bdcebe; padding: 0.45em 0.6em; margin: 0 0.25em; line-height: 1; border-radius: 0.35em;\">\n",
       "    lipcu 1563\n",
       "    <span style=\"font-size: 0.8em; font-weight: bold; line-height: 1; border-radius: 0.35em; vertical-align: middle; margin-left: 0.5rem\">date</span>\n",
       "</mark>\n",
       ", używszy jako narzędzia </br>ks. \n",
       "<mark class=\"entity\" style=\"background: #feb236; padding: 0.45em 0.6em; margin: 0 0.25em; line-height: 1; border-radius: 0.35em;\">\n",
       "    Krzysztofa meklemburskiego\n",
       "    <span style=\"font-size: 0.8em; font-weight: bold; line-height: 1; border-radius: 0.35em; vertical-align: middle; margin-left: 0.5rem\">persName</span>\n",
       "</mark>\n",
       ", koadiutora zmarłego arcybiskupa \n",
       "<mark class=\"entity\" style=\"background: #feb236; padding: 0.45em 0.6em; margin: 0 0.25em; line-height: 1; border-radius: 0.35em;\">\n",
       "    Wilhelma\n",
       "    <span style=\"font-size: 0.8em; font-weight: bold; line-height: 1; border-radius: 0.35em; vertical-align: middle; margin-left: 0.5rem\">persName</span>\n",
       "</mark>\n",
       ".</div></span>"
      ],
      "text/plain": [
       "<IPython.core.display.HTML object>"
      ]
     },
     "metadata": {},
     "output_type": "display_data"
    }
   ],
   "source": [
    "displacy.render(doc, style='ent', options=options)"
   ]
  },
  {
   "cell_type": "code",
   "execution_count": 28,
   "id": "1fd4e35f",
   "metadata": {},
   "outputs": [
    {
     "name": "stdout",
     "output_type": "stream",
     "text": [
      "Zdawało się, że zatarg polsko-szwedzki wejdzie na tory pokojowego rozwiązania  w wyniku \n",
      "małżeństwa między bratem Eryka XIV księciem finlandzkim  Janem a siostrą Zygmunta Augusta królewną \n",
      "Katarzyną, zawartego  w Wilnie 4 października 1562 roku. \n",
      "\n"
     ]
    }
   ],
   "source": [
    "pattern = r'\\s?\\d{1,2}\\s+([a-ząśężźćńłó]{3,}|[XVI]+)\\s+(15|149)'\n",
    "\n",
    "for sent in doc.sents:\n",
    "    is_date = is_person = is_place = False\n",
    "    doc_sent = sent.as_doc()\n",
    "    for ent in doc_sent.ents:\n",
    "        if ent.label_ == 'persName':\n",
    "            is_person = True\n",
    "        elif ent.label_ == 'placeName' and ent.text[0].isupper(): # tylko gdy nazwa zaczyna się z dużej litery\n",
    "            is_place = True\n",
    "        elif ent.label_ == 'date':\n",
    "            match = re.search(pattern, ent.text) # weryfikacja czy jest to data dzienna z lat 1490-1599  \n",
    "            if match:\n",
    "                is_date = True\n",
    "    if is_person and is_place and is_date:\n",
    "        print(sent, '\\n')"
   ]
  },
  {
   "cell_type": "code",
   "execution_count": null,
   "id": "a4007993",
   "metadata": {},
   "outputs": [],
   "source": []
  }
 ],
 "metadata": {
  "kernelspec": {
   "display_name": "Python 3 (ipykernel)",
   "language": "python",
   "name": "python3"
  },
  "language_info": {
   "codemirror_mode": {
    "name": "ipython",
    "version": 3
   },
   "file_extension": ".py",
   "mimetype": "text/x-python",
   "name": "python",
   "nbconvert_exporter": "python",
   "pygments_lexer": "ipython3",
   "version": "3.8.10"
  }
 },
 "nbformat": 4,
 "nbformat_minor": 5
}
