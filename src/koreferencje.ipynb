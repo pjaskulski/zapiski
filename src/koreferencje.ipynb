{
 "cells": [
  {
   "cell_type": "code",
   "execution_count": 20,
   "id": "9272230f",
   "metadata": {},
   "outputs": [
    {
     "name": "stdout",
     "output_type": "stream",
     "text": [
      "0: Jan(1), Wychowywał(30), Otrzymał(48), zajmował(69), jego(83)\n",
      "Jan -> None\n",
      "Wychowywał -> [Jan]\n",
      "Otrzymał -> [Jan]\n",
      "zajmował -> [Jan]\n",
      "jego -> [Jan]\n"
     ]
    }
   ],
   "source": [
    "import spacy, coreferee\n",
    "\n",
    "\n",
    "text = \"\"\"\n",
    "Jan Tarnowski, syn Jana Amora Iuniora i Barbary z Rożnowa, wnuczki Zawiszy Czarnego,\n",
    "pochodził z wpływowej szlacheckiej rodziny Leliwitów Tarnowskich posiadającej status\n",
    "senatorski. Wychowywał się na dworach kardynała Fryderyka Jagiellończyka oraz królów\n",
    "Jana Olbrachta, Aleksandra i Zygmunta Starego. Otrzymał wszechstronne, klasyczne,\n",
    "humanistyczne wykształcenie, także militarne. W związku ze śmiercią najstarszego brata\n",
    "od 1514 zajmował się sprawami spadkowymi i gospodarowaniem rodzinnym majątkiem. Odtąd\n",
    "też trwały: jego spór z siostrzeńcem Piotrem Kmitą i żale względem dworu.\n",
    "\"\"\"\n",
    "\n",
    "nlp = spacy.load(\"pl_core_news_lg\")\n",
    "nlp.add_pipe('coreferee')\n",
    "doc = nlp(text)\n",
    "doc._.coref_chains.print()\n",
    "\n",
    "for chains in doc._.coref_chains:\n",
    "    for chain in chains:\n",
    "        for i in chain:\n",
    "            print(doc[i], '->', doc._.coref_chains.resolve(doc[i]))"
   ]
  },
  {
   "cell_type": "code",
   "execution_count": 38,
   "id": "4f0304f0",
   "metadata": {},
   "outputs": [
    {
     "name": "stdout",
     "output_type": "stream",
     "text": [
      "\n",
      "Jan Tarnowski, syn Jana Amora Iuniora i Barbary z Rożnowa, wnuczki Zawiszy Czarnego,\n",
      "pochodził z wpływowej szlacheckiej rodziny Leliwitów Tarnowskich posiadającej status\n",
      "senatorski. Jan Wychowywał się na dworach kardynała Fryderyka Jagiellończyka oraz królów\n",
      "Jana Olbrachta, Aleksandra i Zygmunta Starego. Jan Otrzymał wszechstronne, klasyczne,\n",
      "humanistyczne wykształcenie, także militarne. W związku ze śmiercią najstarszego brata\n",
      "od 1514 Jan zajmował się sprawami spadkowymi i gospodarowaniem rodzinnym majątkiem. Odtąd\n",
      "też trwały: Jan spór z siostrzeńcem Piotrem Kmitą i żale względem dworu.\n",
      "\n"
     ]
    }
   ],
   "source": [
    "token_map = {}\n",
    "for chains in doc._.coref_chains:\n",
    "    mention_idx = chains[chains.most_specific_mention_index][0]\n",
    "    mention = doc[mention_idx]\n",
    "    for chain in chains:\n",
    "        for i in chain:\n",
    "            if i != mention_idx:\n",
    "                token_map[i] = mention.text\n",
    "                \n",
    "output = ''\n",
    "\n",
    "for token in doc:\n",
    "    if token.i in token_map:\n",
    "        if token.pos_ != 'VERB':\n",
    "            output += token_map[token.i] + ' '\n",
    "        else:\n",
    "            output += token_map[token.i] + ' ' + token.text + token.whitespace_\n",
    "    else:\n",
    "        output += token.text + token.whitespace_\n",
    "\n",
    "print(output)"
   ]
  },
  {
   "cell_type": "code",
   "execution_count": null,
   "id": "dd081af0",
   "metadata": {},
   "outputs": [],
   "source": []
  }
 ],
 "metadata": {
  "kernelspec": {
   "display_name": "Python 3 (ipykernel)",
   "language": "python",
   "name": "python3"
  },
  "language_info": {
   "codemirror_mode": {
    "name": "ipython",
    "version": 3
   },
   "file_extension": ".py",
   "mimetype": "text/x-python",
   "name": "python",
   "nbconvert_exporter": "python",
   "pygments_lexer": "ipython3",
   "version": "3.8.10"
  }
 },
 "nbformat": 4,
 "nbformat_minor": 5
}
