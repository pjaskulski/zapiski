{
 "cells": [
  {
   "cell_type": "code",
   "execution_count": 1,
   "id": "c258d96f",
   "metadata": {},
   "outputs": [],
   "source": [
    "import spacy"
   ]
  },
  {
   "cell_type": "code",
   "execution_count": 2,
   "id": "b981b0c6",
   "metadata": {},
   "outputs": [],
   "source": [
    "from spacy import displacy"
   ]
  },
  {
   "cell_type": "code",
   "execution_count": 3,
   "id": "ba6ba42a",
   "metadata": {},
   "outputs": [],
   "source": [
    "colors = {\"occupation\": \"#feb236\"}\n",
    "options = {\"ents\": [\"occupation\"], \"colors\": colors}"
   ]
  },
  {
   "cell_type": "code",
   "execution_count": 4,
   "id": "b216c44e",
   "metadata": {},
   "outputs": [],
   "source": [
    "nlp = spacy.load('../output/model-best/')"
   ]
  },
  {
   "cell_type": "code",
   "execution_count": 5,
   "id": "2b096d46",
   "metadata": {},
   "outputs": [],
   "source": [
    "doc = nlp(\"W Gdańsku król Zygmunt Henryk i kapitan Alfred Rode wypili kawę, po czym udali się na spotkanie z kanclerzem Janem Tarnowickim i podstarościm Wybickim.\")"
   ]
  },
  {
   "cell_type": "code",
   "execution_count": 6,
   "id": "68cf531c",
   "metadata": {},
   "outputs": [
    {
     "data": {
      "text/html": [
       "<span class=\"tex2jax_ignore\"><div class=\"entities\" style=\"line-height: 2.5; direction: ltr\">W Gdańsku \n",
       "<mark class=\"entity\" style=\"background: #feb236; padding: 0.45em 0.6em; margin: 0 0.25em; line-height: 1; border-radius: 0.35em;\">\n",
       "    król\n",
       "    <span style=\"font-size: 0.8em; font-weight: bold; line-height: 1; border-radius: 0.35em; vertical-align: middle; margin-left: 0.5rem\">occupation</span>\n",
       "</mark>\n",
       " Zygmunt Henryk i \n",
       "<mark class=\"entity\" style=\"background: #feb236; padding: 0.45em 0.6em; margin: 0 0.25em; line-height: 1; border-radius: 0.35em;\">\n",
       "    kapitan\n",
       "    <span style=\"font-size: 0.8em; font-weight: bold; line-height: 1; border-radius: 0.35em; vertical-align: middle; margin-left: 0.5rem\">occupation</span>\n",
       "</mark>\n",
       " Alfred Rode wypili kawę, po czym udali się na spotkanie z \n",
       "<mark class=\"entity\" style=\"background: #feb236; padding: 0.45em 0.6em; margin: 0 0.25em; line-height: 1; border-radius: 0.35em;\">\n",
       "    kanclerzem\n",
       "    <span style=\"font-size: 0.8em; font-weight: bold; line-height: 1; border-radius: 0.35em; vertical-align: middle; margin-left: 0.5rem\">occupation</span>\n",
       "</mark>\n",
       " Janem Tarnowickim i podstarościm Wybickim.</div></span>"
      ],
      "text/plain": [
       "<IPython.core.display.HTML object>"
      ]
     },
     "metadata": {},
     "output_type": "display_data"
    }
   ],
   "source": [
    "displacy.render(doc, style='ent', options=options)"
   ]
  },
  {
   "cell_type": "code",
   "execution_count": null,
   "id": "0ee1caee",
   "metadata": {},
   "outputs": [],
   "source": []
  }
 ],
 "metadata": {
  "kernelspec": {
   "display_name": "Python 3 (ipykernel)",
   "language": "python",
   "name": "python3"
  },
  "language_info": {
   "codemirror_mode": {
    "name": "ipython",
    "version": 3
   },
   "file_extension": ".py",
   "mimetype": "text/x-python",
   "name": "python",
   "nbconvert_exporter": "python",
   "pygments_lexer": "ipython3",
   "version": "3.8.10"
  }
 },
 "nbformat": 4,
 "nbformat_minor": 5
}
